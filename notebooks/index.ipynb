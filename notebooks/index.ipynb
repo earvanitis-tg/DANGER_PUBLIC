{
 "cells": [
  {
   "cell_type": "markdown",
   "metadata": {},
   "source": [
    "# Detailed analyses\n",
    "* [Page 1](test.ipynb)\n",
    "* [Page 2](test1.ipynb)\n",
    "* [Page 3](test2.ipynb)"
   ]
  }
 ],
 "metadata": {
  "language_info": {
   "name": "python"
  },
  "orig_nbformat": 4
 },
 "nbformat": 4,
 "nbformat_minor": 2
}
